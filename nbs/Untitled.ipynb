{
 "cells": [
  {
   "cell_type": "code",
   "execution_count": 8,
   "id": "fc5c857b",
   "metadata": {},
   "outputs": [
    {
     "data": {
      "text/plain": [
       "'C:\\\\Users\\\\Gaming PC\\\\Desktop\\\\dev\\\\projects\\\\web-scraping'"
      ]
     },
     "execution_count": 8,
     "metadata": {},
     "output_type": "execute_result"
    }
   ],
   "source": [
    "pwd"
   ]
  },
  {
   "cell_type": "code",
   "execution_count": 9,
   "id": "7f243582",
   "metadata": {},
   "outputs": [
    {
     "name": "stdout",
     "output_type": "stream",
     "text": [
      " Volume in drive C has no label.\n",
      " Volume Serial Number is 4CAC-7036\n",
      "\n",
      " Directory of C:\\Users\\Gaming PC\\Desktop\\dev\\projects\\web-scraping\n",
      "\n",
      "09.02.2023.  06:12    <DIR>          .\n",
      "09.02.2023.  06:12    <DIR>          ..\n",
      "09.02.2023.  06:26               423 .env\n",
      "09.02.2023.  06:12    <DIR>          .ipynb_checkpoints\n",
      "09.02.2023.  06:33    <DIR>          __pycache__\n",
      "09.02.2023.  05:17               572 config.py\n",
      "09.02.2023.  06:33               986 db.py\n",
      "09.02.2023.  06:26               606 docker-compose.yaml\n",
      "09.02.2023.  06:26               308 Dockerfile\n",
      "09.02.2023.  06:35    <DIR>          ignored\n",
      "27.01.2023.  21:45             1.263 main.py\n",
      "27.01.2023.  21:36               595 models.py\n",
      "09.02.2023.  06:43    <DIR>          nbs\n",
      "09.02.2023.  05:47             1.162 requirements.txt\n",
      "27.01.2023.  21:36               790 schema.py\n",
      "27.01.2023.  21:36               145 utils.py\n",
      "09.02.2023.  06:08    <DIR>          venv\n",
      "27.01.2023.  21:37               552 worker.py\n",
      "              11 File(s)          7.402 bytes\n",
      "               7 Dir(s)  21.874.065.408 bytes free\n"
     ]
    }
   ],
   "source": [
    "ls"
   ]
  },
  {
   "cell_type": "code",
   "execution_count": 10,
   "id": "7cdfa6ed",
   "metadata": {},
   "outputs": [],
   "source": [
    "from worker import random_task"
   ]
  },
  {
   "cell_type": "code",
   "execution_count": 20,
   "id": "5f947b2d",
   "metadata": {},
   "outputs": [
    {
     "name": "stdout",
     "output_type": "stream",
     "text": [
      "Who throws a shoe. Honestly Justin.\n"
     ]
    }
   ],
   "source": [
    "random_task(\"Justin\")"
   ]
  },
  {
   "cell_type": "code",
   "execution_count": null,
   "id": "a2a97c2d",
   "metadata": {},
   "outputs": [],
   "source": []
  },
  {
   "cell_type": "code",
   "execution_count": null,
   "id": "98bd9904",
   "metadata": {},
   "outputs": [],
   "source": []
  }
 ],
 "metadata": {
  "kernelspec": {
   "display_name": "Python 3 (ipykernel)",
   "language": "python",
   "name": "python3"
  },
  "language_info": {
   "codemirror_mode": {
    "name": "ipython",
    "version": 3
   },
   "file_extension": ".py",
   "mimetype": "text/x-python",
   "name": "python",
   "nbconvert_exporter": "python",
   "pygments_lexer": "ipython3",
   "version": "3.10.2"
  }
 },
 "nbformat": 4,
 "nbformat_minor": 5
}
